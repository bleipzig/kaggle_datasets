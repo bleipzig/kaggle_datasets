{
 "cells": [
  {
   "cell_type": "markdown",
   "id": "de8bc7e6b4de5f42",
   "metadata": {
    "collapsed": false
   },
   "source": [
    "## import libraries"
   ]
  },
  {
   "cell_type": "code",
   "execution_count": 1,
   "id": "initial_id",
   "metadata": {
    "collapsed": true,
    "ExecuteTime": {
     "end_time": "2024-03-06T19:28:26.819138Z",
     "start_time": "2024-03-06T19:28:25.338096Z"
    }
   },
   "outputs": [],
   "source": [
    "# Hide deprecation, future, and user warnings\n",
    "import warnings\n",
    "ignore_warnings = lambda category: warnings.filterwarnings(\"ignore\", category=category)\n",
    "ignore_warnings(DeprecationWarning)\n",
    "ignore_warnings(UserWarning)\n",
    "ignore_warnings(FutureWarning)\n",
    "\n",
    "# Import libraries\n",
    "import kaggle\n",
    "import os\n",
    "import pandas as pd\n",
    "\n",
    "# Import project-specific environment variables\n",
    "from dotenv import load_dotenv\n",
    "load_dotenv()\n",
    "\n",
    "# Format dataframes to show commas\n",
    "pd.options.display.float_format = '{:,.0f}'.format"
   ]
  },
  {
   "cell_type": "markdown",
   "id": "7ff46c0b94d658b6",
   "metadata": {
    "collapsed": false
   },
   "source": [
    "## Download the dataset from Kaggle"
   ]
  },
  {
   "cell_type": "code",
   "execution_count": 2,
   "id": "d072409cb04f981c",
   "metadata": {
    "collapsed": false,
    "ExecuteTime": {
     "end_time": "2024-03-06T19:28:26.823074Z",
     "start_time": "2024-03-06T19:28:26.820232Z"
    }
   },
   "outputs": [],
   "source": [
    "def download_dataset(download: bool = False) -> str:\n",
    "    \"\"\"Download the data set from Kaggle\n",
    "    Args:\n",
    "        download (bool, optional): Flag to download the dataset. Defaults to False.\n",
    "    Returns:\n",
    "        None\n",
    "    \"\"\"\n",
    "    fname = 'PRODUCT SALES.csv'\n",
    "    if os.path.exists(fname) or not download:\n",
    "        print('Skipping download as the file already exists')\n",
    "    else:\n",
    "        print('Starting download of the customer segmentation data from Kaggle')\n",
    "        kaggle.api.dataset_download_files(\n",
    "            dataset='kanyianalyst/customer-age-group-segmentation',\n",
    "            path='.',\n",
    "            force=True,\n",
    "            quiet=False,\n",
    "            unzip=True\n",
    "        )\n",
    "    return fname"
   ]
  },
  {
   "cell_type": "markdown",
   "id": "373e7dcee2e4a8bf",
   "metadata": {
    "collapsed": false
   },
   "source": [
    "## Load the file into local memory\n",
    "### Note: the age group id, month, day, and year columns contain data that don't match our expectations. For example:\n",
    "- There are 4 unique age groups, but only 1 age group NUMBER provided in the raw data\n",
    "- All month values = January\n",
    "### We'll replace these columns when loading the file"
   ]
  },
  {
   "cell_type": "code",
   "execution_count": 3,
   "id": "983f03bc2ab2c75f",
   "metadata": {
    "collapsed": false,
    "ExecuteTime": {
     "end_time": "2024-03-06T19:28:26.827488Z",
     "start_time": "2024-03-06T19:28:26.823823Z"
    }
   },
   "outputs": [],
   "source": [
    "def load_file(fname: str) -> pd.DataFrame:\n",
    "    \"\"\"Load the csv file into local memory, rename the headers, and\n",
    "    optjimise the data types.\n",
    "    \n",
    "    Args:\n",
    "        fname (str): The name of the customer segmentation file\n",
    "        \n",
    "    Returns:\n",
    "        pd.DataFrame: The customer segmentation data\n",
    "    \"\"\"\n",
    "    header = [\n",
    "        'date', 'day', 'month', 'year', 'customer_age', 'age_group',\n",
    "        'age_group_id', 'customer_gender', 'country', 'product_category',\n",
    "        'order_quantity', 'unit_cost', 'unit_price', 'profit', 'cost',\n",
    "        'revenue'\n",
    "    ]\n",
    "    dtype_map = dict(customer_age='int8',\n",
    "                     order_quantity='int16',\n",
    "                     unit_cost='float32',\n",
    "                     unit_price='float32',\n",
    "                     profit=float,\n",
    "                     cost=float,\n",
    "                     revenue=float)\n",
    "    df = pd.read_csv(fname,\n",
    "                     sep=',',\n",
    "                     header=0,\n",
    "                     names=header,\n",
    "                     dtype=dtype_map,\n",
    "                     date_format='%d-%m-%Y',\n",
    "                     parse_dates=['date'])\n",
    "    df[['age_group', 'customer_gender', 'country', 'product_category']] = df[[\n",
    "        'age_group', 'customer_gender', 'country', 'product_category'\n",
    "    ]].astype('category')\n",
    "    \n",
    "    # Drop columns producing data inconsistent with our expectations\n",
    "    df.drop(columns=['age_group_id', 'day', 'month', 'year'], inplace=True)\n",
    "    \n",
    "    # Codify categoricals\n",
    "    df['age_group_id'] = df['age_group'].cat.codes\n",
    "    df['customer_gender_id'] = df['customer_gender'].cat.codes\n",
    "    df['product_category_id'] = df['product_category'].cat.codes\n",
    "    \n",
    "    # Fix the capitalisation for Country\n",
    "    df['country'] = df['country'].str.title()\n",
    "    \n",
    "    # Recreating date columns since the original dataset is incorrect\n",
    "    df['month'] = pd.to_datetime(df['date']).dt.month\n",
    "    df['day'] = pd.to_datetime(df['date']).dt.day\n",
    "    df['year'] = pd.to_datetime(df['date']).dt.year\n",
    "    return df"
   ]
  },
  {
   "cell_type": "markdown",
   "id": "b8fde5eabe08a2fe",
   "metadata": {
    "collapsed": false
   },
   "source": [
    "## Load the file into local memory"
   ]
  },
  {
   "cell_type": "code",
   "execution_count": 4,
   "id": "9829b483d4e3d1a1",
   "metadata": {
    "collapsed": false,
    "ExecuteTime": {
     "end_time": "2024-03-06T19:28:27.064957Z",
     "start_time": "2024-03-06T19:28:26.828824Z"
    }
   },
   "outputs": [
    {
     "name": "stdout",
     "output_type": "stream",
     "text": [
      "Skipping download as the file already exists\n",
      "<class 'pandas.core.frame.DataFrame'>\n",
      "RangeIndex: 113036 entries, 0 to 113035\n",
      "Data columns (total 18 columns):\n",
      " #   Column               Non-Null Count   Dtype   \n",
      "---  ------               --------------   -----   \n",
      " 0   date                 113036 non-null  object  \n",
      " 1   customer_age         113036 non-null  int8    \n",
      " 2   age_group            113036 non-null  category\n",
      " 3   customer_gender      113036 non-null  category\n",
      " 4   country              113036 non-null  object  \n",
      " 5   product_category     113036 non-null  category\n",
      " 6   order_quantity       113036 non-null  int16   \n",
      " 7   unit_cost            113036 non-null  float32 \n",
      " 8   unit_price           113036 non-null  float32 \n",
      " 9   profit               113036 non-null  float64 \n",
      " 10  cost                 113036 non-null  float64 \n",
      " 11  revenue              113036 non-null  float64 \n",
      " 12  age_group_id         113036 non-null  int8    \n",
      " 13  customer_gender_id   113036 non-null  int8    \n",
      " 14  product_category_id  113036 non-null  int8    \n",
      " 15  month                113036 non-null  int32   \n",
      " 16  day                  113036 non-null  int32   \n",
      " 17  year                 113036 non-null  int32   \n",
      "dtypes: category(3), float32(2), float64(3), int16(1), int32(3), int8(4), object(2)\n",
      "memory usage: 7.4+ MB\n"
     ]
    }
   ],
   "source": [
    "fname = download_dataset()\n",
    "df = load_file(fname)\n",
    "df.info()"
   ]
  },
  {
   "cell_type": "markdown",
   "id": "7c41135f3f5c485f",
   "metadata": {
    "collapsed": false
   },
   "source": [
    "### Reduced the file size 3+ MB\n",
    "\n",
    "## View first 5 rows"
   ]
  },
  {
   "cell_type": "code",
   "execution_count": 5,
   "id": "64d0eb695e66e661",
   "metadata": {
    "collapsed": false,
    "ExecuteTime": {
     "end_time": "2024-03-06T19:28:27.076128Z",
     "start_time": "2024-03-06T19:28:27.066732Z"
    }
   },
   "outputs": [
    {
     "data": {
      "text/plain": "       date  customer_age             age_group customer_gender  \\\n0  01-01-17            17           Youth (<25)               M   \n1  01-01-17            23           Youth (<25)               M   \n2  01-01-17            33  Young Adults (25-34)               F   \n3  01-01-17            39        Adults (35-64)               M   \n4  01-01-17            42        Adults (35-64)               M   \n\n         country product_category  order_quantity  unit_cost  unit_price  \\\n0         Canada            Bikes               2      1,519       2,443   \n1      Australia            Bikes               2      1,252       2,295   \n2         France            Bikes               2      2,171       3,578   \n3  United States            Bikes               2        713       1,120   \n4  United States            Bikes               2        344         540   \n\n   profit  cost  revenue  age_group_id  customer_gender_id  \\\n0   1,848 3,038    4,886             3                   1   \n1   2,086 2,504    4,590             3                   1   \n2   2,814 4,342    7,156             2                   0   \n3     814 1,426    2,240             0                   1   \n4     392   688    1,080             0                   1   \n\n   product_category_id  month  day  year  \n0                    1      1    1  2017  \n1                    1      1    1  2017  \n2                    1      1    1  2017  \n3                    1      1    1  2017  \n4                    1      1    1  2017  ",
      "text/html": "<div>\n<style scoped>\n    .dataframe tbody tr th:only-of-type {\n        vertical-align: middle;\n    }\n\n    .dataframe tbody tr th {\n        vertical-align: top;\n    }\n\n    .dataframe thead th {\n        text-align: right;\n    }\n</style>\n<table border=\"1\" class=\"dataframe\">\n  <thead>\n    <tr style=\"text-align: right;\">\n      <th></th>\n      <th>date</th>\n      <th>customer_age</th>\n      <th>age_group</th>\n      <th>customer_gender</th>\n      <th>country</th>\n      <th>product_category</th>\n      <th>order_quantity</th>\n      <th>unit_cost</th>\n      <th>unit_price</th>\n      <th>profit</th>\n      <th>cost</th>\n      <th>revenue</th>\n      <th>age_group_id</th>\n      <th>customer_gender_id</th>\n      <th>product_category_id</th>\n      <th>month</th>\n      <th>day</th>\n      <th>year</th>\n    </tr>\n  </thead>\n  <tbody>\n    <tr>\n      <th>0</th>\n      <td>01-01-17</td>\n      <td>17</td>\n      <td>Youth (&lt;25)</td>\n      <td>M</td>\n      <td>Canada</td>\n      <td>Bikes</td>\n      <td>2</td>\n      <td>1,519</td>\n      <td>2,443</td>\n      <td>1,848</td>\n      <td>3,038</td>\n      <td>4,886</td>\n      <td>3</td>\n      <td>1</td>\n      <td>1</td>\n      <td>1</td>\n      <td>1</td>\n      <td>2017</td>\n    </tr>\n    <tr>\n      <th>1</th>\n      <td>01-01-17</td>\n      <td>23</td>\n      <td>Youth (&lt;25)</td>\n      <td>M</td>\n      <td>Australia</td>\n      <td>Bikes</td>\n      <td>2</td>\n      <td>1,252</td>\n      <td>2,295</td>\n      <td>2,086</td>\n      <td>2,504</td>\n      <td>4,590</td>\n      <td>3</td>\n      <td>1</td>\n      <td>1</td>\n      <td>1</td>\n      <td>1</td>\n      <td>2017</td>\n    </tr>\n    <tr>\n      <th>2</th>\n      <td>01-01-17</td>\n      <td>33</td>\n      <td>Young Adults (25-34)</td>\n      <td>F</td>\n      <td>France</td>\n      <td>Bikes</td>\n      <td>2</td>\n      <td>2,171</td>\n      <td>3,578</td>\n      <td>2,814</td>\n      <td>4,342</td>\n      <td>7,156</td>\n      <td>2</td>\n      <td>0</td>\n      <td>1</td>\n      <td>1</td>\n      <td>1</td>\n      <td>2017</td>\n    </tr>\n    <tr>\n      <th>3</th>\n      <td>01-01-17</td>\n      <td>39</td>\n      <td>Adults (35-64)</td>\n      <td>M</td>\n      <td>United States</td>\n      <td>Bikes</td>\n      <td>2</td>\n      <td>713</td>\n      <td>1,120</td>\n      <td>814</td>\n      <td>1,426</td>\n      <td>2,240</td>\n      <td>0</td>\n      <td>1</td>\n      <td>1</td>\n      <td>1</td>\n      <td>1</td>\n      <td>2017</td>\n    </tr>\n    <tr>\n      <th>4</th>\n      <td>01-01-17</td>\n      <td>42</td>\n      <td>Adults (35-64)</td>\n      <td>M</td>\n      <td>United States</td>\n      <td>Bikes</td>\n      <td>2</td>\n      <td>344</td>\n      <td>540</td>\n      <td>392</td>\n      <td>688</td>\n      <td>1,080</td>\n      <td>0</td>\n      <td>1</td>\n      <td>1</td>\n      <td>1</td>\n      <td>1</td>\n      <td>2017</td>\n    </tr>\n  </tbody>\n</table>\n</div>"
     },
     "execution_count": 5,
     "metadata": {},
     "output_type": "execute_result"
    }
   ],
   "source": [
    "df.head()"
   ]
  },
  {
   "cell_type": "markdown",
   "id": "b2819089ab5ed8dd",
   "metadata": {
    "collapsed": false
   },
   "source": [
    "## Describe numericals"
   ]
  },
  {
   "cell_type": "code",
   "execution_count": 6,
   "id": "c683412359c48e8b",
   "metadata": {
    "collapsed": false,
    "ExecuteTime": {
     "end_time": "2024-03-06T19:28:27.110440Z",
     "start_time": "2024-03-06T19:28:27.076681Z"
    }
   },
   "outputs": [
    {
     "data": {
      "text/plain": "       customer_age  order_quantity  unit_cost  unit_price  profit    cost  \\\ncount       113,036         113,036    113,036     113,036 113,036 113,036   \nmean             36              12        267         453     373     469   \nstd              11              10        550         922     595     885   \nmin              17               1          1           2       1       1   \n25%              28               2          2           5      39      28   \n50%              35              10          9          24     135     108   \n75%              43              20         42          70     432     432   \nmax              87              32      2,171       3,578  26,158  42,978   \n\n       revenue  \ncount  113,036  \nmean       842  \nstd      1,466  \nmin          2  \n25%         70  \n50%        245  \n75%        880  \nmax     69,136  ",
      "text/html": "<div>\n<style scoped>\n    .dataframe tbody tr th:only-of-type {\n        vertical-align: middle;\n    }\n\n    .dataframe tbody tr th {\n        vertical-align: top;\n    }\n\n    .dataframe thead th {\n        text-align: right;\n    }\n</style>\n<table border=\"1\" class=\"dataframe\">\n  <thead>\n    <tr style=\"text-align: right;\">\n      <th></th>\n      <th>customer_age</th>\n      <th>order_quantity</th>\n      <th>unit_cost</th>\n      <th>unit_price</th>\n      <th>profit</th>\n      <th>cost</th>\n      <th>revenue</th>\n    </tr>\n  </thead>\n  <tbody>\n    <tr>\n      <th>count</th>\n      <td>113,036</td>\n      <td>113,036</td>\n      <td>113,036</td>\n      <td>113,036</td>\n      <td>113,036</td>\n      <td>113,036</td>\n      <td>113,036</td>\n    </tr>\n    <tr>\n      <th>mean</th>\n      <td>36</td>\n      <td>12</td>\n      <td>267</td>\n      <td>453</td>\n      <td>373</td>\n      <td>469</td>\n      <td>842</td>\n    </tr>\n    <tr>\n      <th>std</th>\n      <td>11</td>\n      <td>10</td>\n      <td>550</td>\n      <td>922</td>\n      <td>595</td>\n      <td>885</td>\n      <td>1,466</td>\n    </tr>\n    <tr>\n      <th>min</th>\n      <td>17</td>\n      <td>1</td>\n      <td>1</td>\n      <td>2</td>\n      <td>1</td>\n      <td>1</td>\n      <td>2</td>\n    </tr>\n    <tr>\n      <th>25%</th>\n      <td>28</td>\n      <td>2</td>\n      <td>2</td>\n      <td>5</td>\n      <td>39</td>\n      <td>28</td>\n      <td>70</td>\n    </tr>\n    <tr>\n      <th>50%</th>\n      <td>35</td>\n      <td>10</td>\n      <td>9</td>\n      <td>24</td>\n      <td>135</td>\n      <td>108</td>\n      <td>245</td>\n    </tr>\n    <tr>\n      <th>75%</th>\n      <td>43</td>\n      <td>20</td>\n      <td>42</td>\n      <td>70</td>\n      <td>432</td>\n      <td>432</td>\n      <td>880</td>\n    </tr>\n    <tr>\n      <th>max</th>\n      <td>87</td>\n      <td>32</td>\n      <td>2,171</td>\n      <td>3,578</td>\n      <td>26,158</td>\n      <td>42,978</td>\n      <td>69,136</td>\n    </tr>\n  </tbody>\n</table>\n</div>"
     },
     "execution_count": 6,
     "metadata": {},
     "output_type": "execute_result"
    }
   ],
   "source": [
    "df[['customer_age', 'order_quantity', 'unit_cost', 'unit_price', 'profit', 'cost', 'revenue']].describe()"
   ]
  },
  {
   "cell_type": "markdown",
   "id": "eba200e6b19817e3",
   "metadata": {
    "collapsed": false
   },
   "source": [
    "## Segment analysis"
   ]
  },
  {
   "cell_type": "code",
   "execution_count": 7,
   "id": "af602b4fbbfe40e1",
   "metadata": {
    "collapsed": false,
    "ExecuteTime": {
     "end_time": "2024-03-06T19:28:27.133809Z",
     "start_time": "2024-03-06T19:28:27.111767Z"
    }
   },
   "outputs": [
    {
     "data": {
      "text/plain": "product_category     Accessories                             \ncountry                   France United Kingdom United States\nage_group                                                    \nAdults (35-64)           762,773      1,034,101     3,260,448\nSeniors (64+)              6,983         23,443        40,277\nYoung Adults (25-34)     610,806        615,722     1,766,303\nYouth (<25)              247,127        277,734       752,295",
      "text/html": "<div>\n<style scoped>\n    .dataframe tbody tr th:only-of-type {\n        vertical-align: middle;\n    }\n\n    .dataframe tbody tr th {\n        vertical-align: top;\n    }\n\n    .dataframe thead tr th {\n        text-align: left;\n    }\n\n    .dataframe thead tr:last-of-type th {\n        text-align: right;\n    }\n</style>\n<table border=\"1\" class=\"dataframe\">\n  <thead>\n    <tr>\n      <th>product_category</th>\n      <th colspan=\"3\" halign=\"left\">Accessories</th>\n    </tr>\n    <tr>\n      <th>country</th>\n      <th>France</th>\n      <th>United Kingdom</th>\n      <th>United States</th>\n    </tr>\n    <tr>\n      <th>age_group</th>\n      <th></th>\n      <th></th>\n      <th></th>\n    </tr>\n  </thead>\n  <tbody>\n    <tr>\n      <th>Adults (35-64)</th>\n      <td>762,773</td>\n      <td>1,034,101</td>\n      <td>3,260,448</td>\n    </tr>\n    <tr>\n      <th>Seniors (64+)</th>\n      <td>6,983</td>\n      <td>23,443</td>\n      <td>40,277</td>\n    </tr>\n    <tr>\n      <th>Young Adults (25-34)</th>\n      <td>610,806</td>\n      <td>615,722</td>\n      <td>1,766,303</td>\n    </tr>\n    <tr>\n      <th>Youth (&lt;25)</th>\n      <td>247,127</td>\n      <td>277,734</td>\n      <td>752,295</td>\n    </tr>\n  </tbody>\n</table>\n</div>"
     },
     "execution_count": 7,
     "metadata": {},
     "output_type": "execute_result"
    }
   ],
   "source": [
    "df.query(\"country in ['France', 'United States', 'United Kingdom'] & product_category == 'Accessories'\")\\\n",
    "    .pivot_table(\n",
    "        index='age_group', \n",
    "        columns=['product_category', 'country'], \n",
    "        values='revenue', \n",
    "        aggfunc='sum',\n",
    "        fill_value=0,\n",
    "        observed=True, \n",
    "        sort=True\n",
    ")"
   ]
  },
  {
   "cell_type": "code",
   "execution_count": 8,
   "id": "9a94e1c344ec51c2",
   "metadata": {
    "collapsed": false,
    "ExecuteTime": {
     "end_time": "2024-03-06T19:28:27.150973Z",
     "start_time": "2024-03-06T19:28:27.135287Z"
    }
   },
   "outputs": [
    {
     "data": {
      "text/plain": "product_category         Bikes                             \ncountry                 France United Kingdom United States\nage_group                                                  \nAdults (35-64)       3,103,937      3,944,222    12,288,385\nSeniors (64+)                0         11,310        82,113\nYoung Adults (25-34) 3,507,960      3,057,910     7,085,938\nYouth (<25)            766,452      1,171,226     2,095,061",
      "text/html": "<div>\n<style scoped>\n    .dataframe tbody tr th:only-of-type {\n        vertical-align: middle;\n    }\n\n    .dataframe tbody tr th {\n        vertical-align: top;\n    }\n\n    .dataframe thead tr th {\n        text-align: left;\n    }\n\n    .dataframe thead tr:last-of-type th {\n        text-align: right;\n    }\n</style>\n<table border=\"1\" class=\"dataframe\">\n  <thead>\n    <tr>\n      <th>product_category</th>\n      <th colspan=\"3\" halign=\"left\">Bikes</th>\n    </tr>\n    <tr>\n      <th>country</th>\n      <th>France</th>\n      <th>United Kingdom</th>\n      <th>United States</th>\n    </tr>\n    <tr>\n      <th>age_group</th>\n      <th></th>\n      <th></th>\n      <th></th>\n    </tr>\n  </thead>\n  <tbody>\n    <tr>\n      <th>Adults (35-64)</th>\n      <td>3,103,937</td>\n      <td>3,944,222</td>\n      <td>12,288,385</td>\n    </tr>\n    <tr>\n      <th>Seniors (64+)</th>\n      <td>0</td>\n      <td>11,310</td>\n      <td>82,113</td>\n    </tr>\n    <tr>\n      <th>Young Adults (25-34)</th>\n      <td>3,507,960</td>\n      <td>3,057,910</td>\n      <td>7,085,938</td>\n    </tr>\n    <tr>\n      <th>Youth (&lt;25)</th>\n      <td>766,452</td>\n      <td>1,171,226</td>\n      <td>2,095,061</td>\n    </tr>\n  </tbody>\n</table>\n</div>"
     },
     "execution_count": 8,
     "metadata": {},
     "output_type": "execute_result"
    }
   ],
   "source": [
    "df.query(\"country in ['France', 'United States', 'United Kingdom'] & product_category == 'Bikes'\") \\\n",
    "    .pivot_table(\n",
    "    index='age_group',\n",
    "    columns=['product_category', 'country'],\n",
    "    values='revenue',\n",
    "    aggfunc='sum',\n",
    "    fill_value=0,\n",
    "    observed=True,\n",
    "    sort=True\n",
    ")"
   ]
  },
  {
   "cell_type": "code",
   "execution_count": 9,
   "id": "ead0f15a69acf71a",
   "metadata": {
    "collapsed": false,
    "ExecuteTime": {
     "end_time": "2024-03-06T19:28:27.166233Z",
     "start_time": "2024-03-06T19:28:27.152247Z"
    }
   },
   "outputs": [
    {
     "data": {
      "text/plain": "product_category     Clothing                             \ncountry                France United Kingdom United States\nage_group                                                 \nAdults (35-64)        335,195        447,704     2,039,295\nSeniors (64+)           9,751          5,598        21,019\nYoung Adults (25-34)  359,244        334,484       904,509\nYouth (<25)           136,985        166,552       479,131",
      "text/html": "<div>\n<style scoped>\n    .dataframe tbody tr th:only-of-type {\n        vertical-align: middle;\n    }\n\n    .dataframe tbody tr th {\n        vertical-align: top;\n    }\n\n    .dataframe thead tr th {\n        text-align: left;\n    }\n\n    .dataframe thead tr:last-of-type th {\n        text-align: right;\n    }\n</style>\n<table border=\"1\" class=\"dataframe\">\n  <thead>\n    <tr>\n      <th>product_category</th>\n      <th colspan=\"3\" halign=\"left\">Clothing</th>\n    </tr>\n    <tr>\n      <th>country</th>\n      <th>France</th>\n      <th>United Kingdom</th>\n      <th>United States</th>\n    </tr>\n    <tr>\n      <th>age_group</th>\n      <th></th>\n      <th></th>\n      <th></th>\n    </tr>\n  </thead>\n  <tbody>\n    <tr>\n      <th>Adults (35-64)</th>\n      <td>335,195</td>\n      <td>447,704</td>\n      <td>2,039,295</td>\n    </tr>\n    <tr>\n      <th>Seniors (64+)</th>\n      <td>9,751</td>\n      <td>5,598</td>\n      <td>21,019</td>\n    </tr>\n    <tr>\n      <th>Young Adults (25-34)</th>\n      <td>359,244</td>\n      <td>334,484</td>\n      <td>904,509</td>\n    </tr>\n    <tr>\n      <th>Youth (&lt;25)</th>\n      <td>136,985</td>\n      <td>166,552</td>\n      <td>479,131</td>\n    </tr>\n  </tbody>\n</table>\n</div>"
     },
     "execution_count": 9,
     "metadata": {},
     "output_type": "execute_result"
    }
   ],
   "source": [
    "df.query(\"country in ['France', 'United States', 'United Kingdom'] & product_category == 'Clothing'\") \\\n",
    "    .pivot_table(\n",
    "    index='age_group',\n",
    "    columns=['product_category', 'country'],\n",
    "    values='revenue',\n",
    "    aggfunc='sum',\n",
    "    fill_value=0,\n",
    "    observed=True,\n",
    "    sort=True\n",
    ")"
   ]
  },
  {
   "cell_type": "code",
   "execution_count": 9,
   "id": "e2ec395d4efdd9b1",
   "metadata": {
    "collapsed": false,
    "ExecuteTime": {
     "end_time": "2024-03-06T19:28:27.168619Z",
     "start_time": "2024-03-06T19:28:27.167102Z"
    }
   },
   "outputs": [],
   "source": []
  }
 ],
 "metadata": {
  "kernelspec": {
   "display_name": "Python 3",
   "language": "python",
   "name": "python3"
  },
  "language_info": {
   "codemirror_mode": {
    "name": "ipython",
    "version": 3
   },
   "file_extension": ".py",
   "mimetype": "text/x-python",
   "name": "python",
   "nbconvert_exporter": "python",
   "pygments_lexer": "ipython3",
   "version": "3.12.1"
  }
 },
 "nbformat": 4,
 "nbformat_minor": 5
}
